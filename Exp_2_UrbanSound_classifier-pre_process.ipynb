{
 "cells": [
  {
   "cell_type": "code",
   "execution_count": 1,
   "metadata": {},
   "outputs": [
    {
     "name": "stdout",
     "output_type": "stream",
     "text": [
      "Version: 3.8.5 (default, Sep  4 2020, 07:30:14) \n",
      "[GCC 7.3.0]\n",
      "Python executable: /home/francisco/anaconda3/bin/python\n"
     ]
    }
   ],
   "source": [
    "import pandas as pd\n",
    "import os, sys\n",
    "import glob \n",
    "\n",
    "import time\n",
    "\n",
    "import IPython.display as ipd\n",
    "import librosa\n",
    "import librosa.display\n",
    "\n",
    "\n",
    "import soundfile as sf\n",
    "import scipy.signal as signal\n",
    "import skimage.io\n",
    "\n",
    "from fastai.basics import *\n",
    "from fastai.vision.all import *\n",
    "\n",
    "print('Version:', sys.version)\n",
    "print('Python executable:', sys.executable)"
   ]
  },
  {
   "cell_type": "code",
   "execution_count": 17,
   "metadata": {},
   "outputs": [],
   "source": [
    "file_path = Path(\"/home/francisco/Documents/UrbanSound challenge/data/\")"
   ]
  },
  {
   "cell_type": "markdown",
   "metadata": {},
   "source": [
    "### Create a list with all the wav files from that folder, it keeps names, directories and parent directories"
   ]
  },
  {
   "cell_type": "code",
   "execution_count": 18,
   "metadata": {},
   "outputs": [
    {
     "data": {
      "text/plain": [
       "8732"
      ]
     },
     "execution_count": 18,
     "metadata": {},
     "output_type": "execute_result"
    }
   ],
   "source": [
    "wav_files = [os.path.join(root, name)\n",
    "             for root, dirs, files in os.walk(file_path)\n",
    "             for name in files\n",
    "             if name.endswith((\".wav\"))]\n",
    "len(wav_files)"
   ]
  },
  {
   "cell_type": "code",
   "execution_count": 19,
   "metadata": {},
   "outputs": [
    {
     "data": {
      "image/png": "[encoded data removed]",
      "text/plain": [
       "<Figure size 72x72 with 1 Axes>"
      ]
     },
     "metadata": {
      "needs_background": "light"
     },
     "output_type": "display_data"
    }
   ],
   "source": [
    "current_file = wav_files[0]\n",
    "section_data, fs = librosa.core.load(current_file, sr=None)\n",
    "\n",
    "fig = plt.figure(figsize=[1,1])\n",
    "ax = fig.add_subplot(111)\n",
    "ax.axes.get_xaxis().set_visible(False)\n",
    "ax.axes.get_yaxis().set_visible(False)\n",
    "ax.set_frame_on(False)\n",
    "    \n",
    "mfccs = librosa.feature.melspectrogram(y=section_data, sr=fs,n_mels=128,hop_length=2**10)\n",
    "librosa.display.specshow(librosa.power_to_db(mfccs, ref=np.max), y_axis='linear');"
   ]
  },
  {
   "cell_type": "code",
   "execution_count": 20,
   "metadata": {},
   "outputs": [
    {
     "data": {
      "image/png": "[encoded data removed]",
      "text/plain": [
       "<Figure size 72x72 with 1 Axes>"
      ]
     },
     "metadata": {
      "needs_background": "light"
     },
     "output_type": "display_data"
    }
   ],
   "source": [
    "current_file = wav_files[0]\n",
    "section_data, fs = librosa.core.load(current_file, sr=None)\n",
    "\n",
    "fig = plt.figure(figsize=[1,1])\n",
    "ax = fig.add_subplot(111)\n",
    "ax.axes.get_xaxis().set_visible(False)\n",
    "ax.axes.get_yaxis().set_visible(False)\n",
    "ax.set_frame_on(False)\n",
    "\n",
    "mfccs = librosa.feature.melspectrogram(y=section_data, sr=fs)\n",
    "#mfccs = np.log(mfccs + 1e-9) #\n",
    "librosa.display.specshow(librosa.power_to_db(mfccs, ref=np.max), y_axis='linear');\n",
    "\n",
    "plt.savefig('est', dpi=500, bbox_inches='tight',pad_inches=0)"
   ]
  },
  {
   "cell_type": "code",
   "execution_count": 21,
   "metadata": {},
   "outputs": [],
   "source": [
    "def manual_front_fetch(file_name):\n",
    "    path = '/home/francisco/Documents/UrbanSound challenge/UrbanSound8K.csv'\n",
    "    class_names = pd.read_csv(path)\n",
    "    manual_front_time=[]\n",
    "    #FileBaseName = os.path.splitext(os.path.basename(file_name))[0]\n",
    "    for i in range(len(class_names)):\n",
    "        if str(FileBaseName) == str(class_names.iloc[i,0][:-4]):\n",
    "            manual_front_time = str(class_names.iloc[i,7])\n",
    "            break\n",
    "    return manual_front_time\n",
    "\n",
    "def scale_minmax(X, min=0.0, max=1.0):\n",
    "    # Scale spectrogram to save it as png\n",
    "    X_std = (X - X.min()) / (X.max() - X.min())\n",
    "    X_scaled = X_std * (max - min) + min\n",
    "    return X_scaled\n",
    "\n",
    "def melspectrogram_image(y, sr, out, hop_length, n_mels):\n",
    "    # This is to get rid of the axes and only get the picture \n",
    "    fig = plt.figure(figsize=[1,1])\n",
    "    ax = fig.add_subplot(111)\n",
    "    ax.axes.get_xaxis().set_visible(False)\n",
    "    ax.axes.get_yaxis().set_visible(False)\n",
    "    ax.set_frame_on(False)\n",
    "\n",
    "    # use log-melspectrogram and save it as png\n",
    "    mfccs = librosa.feature.melspectrogram(y=y, sr=sr)#, n_mels=n_mels,\n",
    "                                            #n_fft=hop_length, hop_length=hop_length)\n",
    "    librosa.display.specshow(librosa.power_to_db(mfccs, ref=np.max), y_axis='linear');\n",
    "    plt.savefig(out, dpi=500, bbox_inches='tight',pad_inches=0)\n",
    "    plt.close()\n",
    "    #mfccs = np.log(mfccs + 1e-9) # add small number to avoid log(0)\n",
    "\n",
    "#     # min-max scale to fit inside 8-bit range\n",
    "#     img = scale_minmax(mfccs, 0, 255).astype(np.uint8)\n",
    "#     img = np.flip(img, axis=0) # put low frequencies at the bottom in image\n",
    "#     #img = 255-img # invert. make black==more energy\n",
    "#     BW3layerMapInt = np.zeros( (img.shape[0], img.shape[1], 3), dtype=np.uint8 )\n",
    "#     for layer in range(3):\n",
    "#         BW3layerMapInt[:, :, layer] = np.uint8( 255*img)\n",
    "#     #return BW3layerMapInt\n",
    "#     #img_for_export = Image.fromarray(BW3layerMapInt, 'RGB')\n",
    "\n",
    "#     # save as PNG\n",
    "#     #skimage.io.imsave(out, img)\n",
    "#     skimage.io.imsave(out, BW3layerMapInt)plt.savefig('est', dpi=500, bbox_inches='tight',pad_inches=0)"
   ]
  },
  {
   "cell_type": "markdown",
   "metadata": {},
   "source": [
    "### Get MEL-Spectrograms\n",
    "\n",
    "We will create a new folder to save there all the MEL-Spectrograms"
   ]
  },
  {
   "cell_type": "code",
   "execution_count": 22,
   "metadata": {},
   "outputs": [],
   "source": [
    "experiment_name='Exp_2_UrbanSound_MEL-Spectrogram'"
   ]
  },
  {
   "cell_type": "code",
   "execution_count": 24,
   "metadata": {},
   "outputs": [
    {
     "name": "stdout",
     "output_type": "stream",
     "text": [
      "Exp_2_UrbanSound_MEL-Spectrogram\n",
      "/home/francisco/Documents/UrbanSound challenge/data/Exp_2_UrbanSound_MEL-Spectrogram/20211021-212101\n"
     ]
    }
   ],
   "source": [
    "timestr = time.strftime(\"%Y%m%d-%H%M%S\")\n",
    "out_folder='/home/francisco/Documents/UrbanSound challenge/data/'+experiment_name+'/'+timestr\n",
    "if not os.path.exists(out_folder): # Check if folder exists, if not create one\n",
    "    os.makedirs(out_folder)\n",
    "    \n",
    "resample=False\n",
    "pre_emphasis=False    \n",
    "feature = 'MEL-spectrogram'    \n",
    "\n",
    "for current_file in wav_files:\n",
    "    FileBaseName = os.path.splitext(os.path.basename(current_file))[0]\n",
    "    y_label=manual_front_fetch(FileBaseName)\n",
    "    \n",
    "    # Output FileName\n",
    "    outFileName = os.path.join(out_folder,str(FileBaseName)+'_'+str(y_label)+'.png')\n",
    "#     print(outFileName)\n",
    "    \n",
    "    # load audio. Using example from librosa\n",
    "    section_data, fs = librosa.core.load(current_file, sr=None)\n",
    "    \n",
    "    # MEL Spectrogram\n",
    "    n_mels = 128 # number of bins in spectrogram. Height of image\n",
    "    hop_length = 2**10#4458\n",
    "    melspectrogram_image(section_data, sr=fs, out=outFileName, hop_length=hop_length, n_mels=n_mels)\n",
    "\n",
    "print(experiment_name)\n",
    "print(out_folder)    "
   ]
  }
 ],
 "metadata": {
  "kernelspec": {
   "display_name": "Python 3",
   "language": "python",
   "name": "python3"
  },
  "language_info": {
   "codemirror_mode": {
    "name": "ipython",
    "version": 3
   },
   "file_extension": ".py",
   "mimetype": "text/x-python",
   "name": "python",
   "nbconvert_exporter": "python",
   "pygments_lexer": "ipython3",
   "version": "3.8.5"
  }
 },
 "nbformat": 4,
 "nbformat_minor": 2
}
